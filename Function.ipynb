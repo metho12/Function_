{
 "cells": [
  {
   "cell_type": "markdown",
   "id": "5fc8e720",
   "metadata": {},
   "source": [
    "----------Python Functions---------"
   ]
  },
  {
   "cell_type": "markdown",
   "id": "a6614d1a",
   "metadata": {},
   "source": [
    "A function is a block of code which only runs when it is called"
   ]
  },
  {
   "cell_type": "markdown",
   "id": "544f034d",
   "metadata": {},
   "source": [
    "# def dun_num(arguments, parameters):\n",
    "    body : logic \n",
    "        Return vaule "
   ]
  },
  {
   "cell_type": "code",
   "execution_count": 10,
   "id": "9ae6fa45",
   "metadata": {},
   "outputs": [
    {
     "name": "stdout",
     "output_type": "stream",
     "text": [
      "15\n"
     ]
    }
   ],
   "source": [
    "def mysum():\n",
    "    x = 5\n",
    "    y= 10\n",
    "    print (x+y)\n",
    "mysum()"
   ]
  },
  {
   "cell_type": "code",
   "execution_count": 11,
   "id": "b2feb60a",
   "metadata": {},
   "outputs": [
    {
     "name": "stdout",
     "output_type": "stream",
     "text": [
      "8\n"
     ]
    }
   ],
   "source": [
    "def mysum(x,y):\n",
    "    print(x+y)\n",
    "mysum(3,5)   "
   ]
  },
  {
   "cell_type": "code",
   "execution_count": 12,
   "id": "cd1d9956",
   "metadata": {},
   "outputs": [
    {
     "name": "stdout",
     "output_type": "stream",
     "text": [
      "6\n"
     ]
    }
   ],
   "source": [
    "def mysum(x,y):\n",
    "    print(x+y)\n",
    "mysum(3,3)   "
   ]
  },
  {
   "cell_type": "code",
   "execution_count": 13,
   "id": "71e6e06b",
   "metadata": {},
   "outputs": [
    {
     "name": "stdout",
     "output_type": "stream",
     "text": [
      "9\n"
     ]
    }
   ],
   "source": [
    "def mysum(x,y):\n",
    "    print(x*y)\n",
    "mysum(3,3)   "
   ]
  },
  {
   "cell_type": "code",
   "execution_count": 26,
   "id": "ab4d7219",
   "metadata": {},
   "outputs": [
    {
     "data": {
      "text/plain": [
       "9"
      ]
     },
     "execution_count": 26,
     "metadata": {},
     "output_type": "execute_result"
    }
   ],
   "source": [
    "def mysum(x,y):\n",
    "    result = x*y\n",
    "    return result\n",
    "mysum(3,3)  \n"
   ]
  },
  {
   "cell_type": "code",
   "execution_count": 29,
   "id": "8487bf70",
   "metadata": {},
   "outputs": [
    {
     "name": "stdout",
     "output_type": "stream",
     "text": [
      "Hello From My Function!\n"
     ]
    }
   ],
   "source": [
    "def my_function():\n",
    "    print(\"Hello From My Function!\")\n",
    "my_function()    "
   ]
  },
  {
   "cell_type": "markdown",
   "id": "a620bf75",
   "metadata": {},
   "source": [
    "Types of parameter:Required, keyword, Postion Default "
   ]
  },
  {
   "cell_type": "code",
   "execution_count": 31,
   "id": "479c8cb6",
   "metadata": {},
   "outputs": [
    {
     "data": {
      "text/plain": [
       "3"
      ]
     },
     "execution_count": 31,
     "metadata": {},
     "output_type": "execute_result"
    }
   ],
   "source": [
    "def mysum(x=0,y=1):\n",
    "    result = x*y\n",
    "    return result\n",
    "mysum(3)  \n"
   ]
  },
  {
   "cell_type": "markdown",
   "id": "687f5775",
   "metadata": {},
   "source": [
    "the Default value must be the last one. "
   ]
  },
  {
   "cell_type": "code",
   "execution_count": 33,
   "id": "4aa1ee66",
   "metadata": {},
   "outputs": [
    {
     "data": {
      "text/plain": [
       "200"
      ]
     },
     "execution_count": 33,
     "metadata": {},
     "output_type": "execute_result"
    }
   ],
   "source": [
    "def mysum(x,y=1):\n",
    "    result = x*y\n",
    "    return result\n",
    "mysum(200)  \n"
   ]
  },
  {
   "cell_type": "code",
   "execution_count": 34,
   "id": "8ab12b26",
   "metadata": {},
   "outputs": [
    {
     "name": "stdout",
     "output_type": "stream",
     "text": [
      "0\n",
      "5\n",
      "0\n"
     ]
    }
   ],
   "source": [
    "f = 0 \n",
    "print (f)\n",
    "def do ():\n",
    "    f = 5\n",
    "    print(f)\n",
    "do()\n",
    "print(f)"
   ]
  },
  {
   "cell_type": "markdown",
   "id": "20adfeee",
   "metadata": {},
   "source": [
    "a global variable in Python means having a scope throughout the program"
   ]
  },
  {
   "cell_type": "code",
   "execution_count": 35,
   "id": "c6529249",
   "metadata": {},
   "outputs": [
    {
     "name": "stdout",
     "output_type": "stream",
     "text": [
      "0\n",
      "5\n",
      "5\n"
     ]
    }
   ],
   "source": [
    "f = 0 \n",
    "print (f)\n",
    "def do ():\n",
    "    global f  \n",
    "    f = 5 # local\n",
    "    print(f)\n",
    "do()\n",
    "print(f)"
   ]
  },
  {
   "cell_type": "code",
   "execution_count": 39,
   "id": "9f4d4d39",
   "metadata": {},
   "outputs": [
    {
     "name": "stdout",
     "output_type": "stream",
     "text": [
      "3\n"
     ]
    }
   ],
   "source": [
    "# global variable\n",
    "c = 1 \n",
    "\n",
    "def add():\n",
    "\n",
    "    # use of global keyword\n",
    "    global c\n",
    "\n",
    "    # increment c by 2\n",
    "    c = c + 2 \n",
    "\n",
    "    print(c)\n",
    "\n",
    "add()"
   ]
  },
  {
   "cell_type": "markdown",
   "id": "538b6c2b",
   "metadata": {},
   "source": [
    "2# anonymous function"
   ]
  },
  {
   "cell_type": "markdown",
   "id": "c308d91d",
   "metadata": {},
   "source": [
    "A lambda function is a small anonymous function. A lambda function can take any number of arguments, but can only have one expression."
   ]
  },
  {
   "cell_type": "code",
   "execution_count": 42,
   "id": "68042ccd",
   "metadata": {},
   "outputs": [
    {
     "name": "stdout",
     "output_type": "stream",
     "text": [
      "10\n"
     ]
    }
   ],
   "source": [
    "mysum2 = lambda x,y :x+y\n",
    "\n",
    "print(mysum2(5,5))"
   ]
  },
  {
   "cell_type": "code",
   "execution_count": 43,
   "id": "79743f97",
   "metadata": {},
   "outputs": [
    {
     "name": "stdout",
     "output_type": "stream",
     "text": [
      "15\n"
     ]
    }
   ],
   "source": [
    "x = lambda a : a + 10\n",
    "print(x(5))"
   ]
  },
  {
   "cell_type": "code",
   "execution_count": 45,
   "id": "1164d98a",
   "metadata": {},
   "outputs": [
    {
     "name": "stdout",
     "output_type": "stream",
     "text": [
      "13\n"
     ]
    }
   ],
   "source": [
    "t = (lambda x,y :x+y) (10,3)\n",
    "print(t)"
   ]
  },
  {
   "cell_type": "code",
   "execution_count": 47,
   "id": "0ea4c22e",
   "metadata": {},
   "outputs": [
    {
     "data": {
      "text/plain": [
       "5"
      ]
     },
     "execution_count": 47,
     "metadata": {},
     "output_type": "execute_result"
    }
   ],
   "source": [
    "t = (1,2,3,4,5)\n",
    "t[-1]"
   ]
  },
  {
   "cell_type": "code",
   "execution_count": 49,
   "id": "5f75b14c",
   "metadata": {},
   "outputs": [
    {
     "data": {
      "text/plain": [
       "60"
      ]
     },
     "execution_count": 49,
     "metadata": {},
     "output_type": "execute_result"
    }
   ],
   "source": [
    "d = {'mohmoud':60,'age':10,'ali':80}\n",
    "d['mohmoud']"
   ]
  },
  {
   "cell_type": "code",
   "execution_count": 50,
   "id": "99fb2fe8",
   "metadata": {},
   "outputs": [
    {
     "data": {
      "text/plain": [
       "{'mohmoud': 60, 'age': 10, 'ali': 80}"
      ]
     },
     "execution_count": 50,
     "metadata": {},
     "output_type": "execute_result"
    }
   ],
   "source": [
    "d "
   ]
  },
  {
   "cell_type": "code",
   "execution_count": 51,
   "id": "ca028d80",
   "metadata": {},
   "outputs": [],
   "source": [
    "d['ali']= 500"
   ]
  },
  {
   "cell_type": "code",
   "execution_count": 52,
   "id": "abb20379",
   "metadata": {},
   "outputs": [
    {
     "data": {
      "text/plain": [
       "{'mohmoud': 60, 'age': 10, 'ali': 500}"
      ]
     },
     "execution_count": 52,
     "metadata": {},
     "output_type": "execute_result"
    }
   ],
   "source": [
    "d"
   ]
  },
  {
   "cell_type": "code",
   "execution_count": 54,
   "id": "666eb502",
   "metadata": {},
   "outputs": [
    {
     "name": "stdout",
     "output_type": "stream",
     "text": [
      "mohmoud\n",
      "age\n",
      "ali\n"
     ]
    }
   ],
   "source": [
    "t= {'mohmoud': 60, 'age': 10, 'ali': 500}\n",
    "for x in t :\n",
    "    print (x)"
   ]
  },
  {
   "cell_type": "code",
   "execution_count": 56,
   "id": "df1a81e9",
   "metadata": {},
   "outputs": [
    {
     "name": "stdout",
     "output_type": "stream",
     "text": [
      "60\n",
      "10\n",
      "500\n"
     ]
    }
   ],
   "source": [
    "t= {'mohmoud': 60, 'age': 10, 'ali': 500}\n",
    "for x in t.values() :\n",
    "    print (x)"
   ]
  },
  {
   "cell_type": "code",
   "execution_count": 58,
   "id": "b19cfa0a",
   "metadata": {},
   "outputs": [
    {
     "name": "stdout",
     "output_type": "stream",
     "text": [
      "mohmoud 60\n",
      "age 10\n",
      "ali 500\n"
     ]
    }
   ],
   "source": [
    "t= {'mohmoud': 60, 'age': 10, 'ali': 500}\n",
    "for x,y in t.items():\n",
    "    print (x,y)"
   ]
  },
  {
   "cell_type": "code",
   "execution_count": 60,
   "id": "8c65107d",
   "metadata": {},
   "outputs": [
    {
     "name": "stdout",
     "output_type": "stream",
     "text": [
      "my name ahmed and my age is 30\n"
     ]
    }
   ],
   "source": [
    "name = 'ahmed'\n",
    "age = 30\n",
    "print(f\"my name {name} and my age is {age}\")"
   ]
  },
  {
   "cell_type": "code",
   "execution_count": 63,
   "id": "b06d7c98",
   "metadata": {},
   "outputs": [],
   "source": [
    "s = f\"my name {name} and my age is {age}\""
   ]
  },
  {
   "cell_type": "code",
   "execution_count": 64,
   "id": "0cc9bef5",
   "metadata": {},
   "outputs": [
    {
     "data": {
      "text/plain": [
       "'MY NAME AHMED AND MY AGE IS 30'"
      ]
     },
     "execution_count": 64,
     "metadata": {},
     "output_type": "execute_result"
    }
   ],
   "source": [
    "s.upper()"
   ]
  },
  {
   "cell_type": "code",
   "execution_count": 65,
   "id": "66b963da",
   "metadata": {},
   "outputs": [
    {
     "data": {
      "text/plain": [
       "'my name ahmed and my age is 30'"
      ]
     },
     "execution_count": 65,
     "metadata": {},
     "output_type": "execute_result"
    }
   ],
   "source": [
    "s.lower()"
   ]
  },
  {
   "cell_type": "code",
   "execution_count": 66,
   "id": "b585d82b",
   "metadata": {},
   "outputs": [
    {
     "data": {
      "text/plain": [
       "'My Name Ahmed And My Age Is 30'"
      ]
     },
     "execution_count": 66,
     "metadata": {},
     "output_type": "execute_result"
    }
   ],
   "source": [
    "s.title()"
   ]
  },
  {
   "cell_type": "code",
   "execution_count": 67,
   "id": "a241c5af",
   "metadata": {},
   "outputs": [
    {
     "data": {
      "text/plain": [
       "'my name ahmed and my age was 30'"
      ]
     },
     "execution_count": 67,
     "metadata": {},
     "output_type": "execute_result"
    }
   ],
   "source": [
    "s.replace(\"is\",\"was\")"
   ]
  },
  {
   "cell_type": "code",
   "execution_count": 68,
   "id": "46ae0f0f",
   "metadata": {},
   "outputs": [
    {
     "data": {
      "text/plain": [
       "True"
      ]
     },
     "execution_count": 68,
     "metadata": {},
     "output_type": "execute_result"
    }
   ],
   "source": [
    "s.islower()"
   ]
  },
  {
   "cell_type": "code",
   "execution_count": 70,
   "id": "adf9f6b2",
   "metadata": {},
   "outputs": [
    {
     "data": {
      "text/plain": [
       "False"
      ]
     },
     "execution_count": 70,
     "metadata": {},
     "output_type": "execute_result"
    }
   ],
   "source": [
    "s.isupper()"
   ]
  },
  {
   "cell_type": "code",
   "execution_count": null,
   "id": "75b8881c",
   "metadata": {},
   "outputs": [],
   "source": []
  }
 ],
 "metadata": {
  "kernelspec": {
   "display_name": "Python 3 (ipykernel)",
   "language": "python",
   "name": "python3"
  },
  "language_info": {
   "codemirror_mode": {
    "name": "ipython",
    "version": 3
   },
   "file_extension": ".py",
   "mimetype": "text/x-python",
   "name": "python",
   "nbconvert_exporter": "python",
   "pygments_lexer": "ipython3",
   "version": "3.9.12"
  }
 },
 "nbformat": 4,
 "nbformat_minor": 5
}
